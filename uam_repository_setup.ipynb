{
 "cells": [
  {
   "cell_type": "markdown",
   "id": "4607191e-0aee-4d10-befe-484bc07aa353",
   "metadata": {},
   "source": [
    "# Unified Angular Mathematics — Repository Setup\n",
    "\n",
    "This notebook scaffolds a reproducible framework for analyzing angular interference, CMB-BAO bifurcation patterns, and π³-based energy partitioning in cosmology using UAM principles.\n"
   ]
  },
  {
   "cell_type": "code",
   "execution_count": 2,
   "id": "ff7c6b43-9b28-42c7-bf14-bad165c53ae1",
   "metadata": {},
   "outputs": [],
   "source": [
    "import numpy as np\n",
    "import matplotlib.pyplot as plt\n",
    "from scipy.signal import find_peaks\n"
   ]
  },
  {
   "cell_type": "code",
   "execution_count": 3,
   "id": "f663c4d8-9056-45d2-b39e-074732ca7a38",
   "metadata": {},
   "outputs": [],
   "source": [
    "def extract_peak_angles(signal_func, x_vals, height_threshold=0.05):\n",
    "    \"\"\"\n",
    "    Extract angular positions of peaks from a given signal function.\n",
    "\n",
    "    Parameters:\n",
    "        signal_func (callable): The signal-generating function (e.g. synthetic_cmb).\n",
    "        x_vals (ndarray): Array of angular positions to evaluate the signal.\n",
    "        height_threshold (float): Minimum peak height to be considered.\n",
    "\n",
    "    Returns:\n",
    "        peak_angles (ndarray): Angular positions of detected peaks.\n",
    "    \"\"\"\n",
    "    from scipy.signal import find_peaks\n",
    "    signal_vals = signal_func(x_vals)\n",
    "    peak_indices, _ = find_peaks(signal_vals, height=height_threshold)\n",
    "    return x_vals[peak_indices]\n"
   ]
  },
  {
   "cell_type": "code",
   "execution_count": 4,
   "id": "3e20cff9-817e-4032-b4eb-f380d5185ba4",
   "metadata": {},
   "outputs": [],
   "source": [
    "def compute_angular_relationships(angle_a, angle_b):\n",
    "    \"\"\"\n",
    "    Compute spacing and ratio between two angular positions.\n",
    "\n",
    "    Parameters:\n",
    "        angle_a (float): First angular value (e.g. CMB peak).\n",
    "        angle_b (float): Second angular value (e.g. BAO peak).\n",
    "\n",
    "    Returns:\n",
    "        angular_spacing (float): Difference angle_b - angle_a.\n",
    "        angle_ratio (float): Ratio of angle_b to angle_a.\n",
    "    \"\"\"\n",
    "    angular_spacing = angle_b - angle_a\n",
    "    angle_ratio = angle_b / angle_a\n",
    "    return angular_spacing, angle_ratio\n"
   ]
  },
  {
   "cell_type": "code",
   "execution_count": 5,
   "id": "d40a72f3-27c7-4355-b1d3-47fe8a4d1b11",
   "metadata": {},
   "outputs": [
    {
     "name": "stdout",
     "output_type": "stream",
     "text": [
      "Angular Spacing: 0.0481\n",
      "Angular Ratio: 1.4139\n"
     ]
    }
   ],
   "source": [
    "cmb_angle = 0.1162\n",
    "bao_angle = 0.1643\n",
    "\n",
    "delta, ratio = compute_angular_relationships(cmb_angle, bao_angle)\n",
    "print(\"Angular Spacing:\", round(delta, 4))\n",
    "print(\"Angular Ratio:\", round(ratio, 4))\n"
   ]
  },
  {
   "cell_type": "code",
   "execution_count": 6,
   "id": "72ecf9c3-37be-4ffa-87cf-451f591ceb29",
   "metadata": {},
   "outputs": [],
   "source": [
    "def synthetic_cmb(x):\n",
    "    \"\"\"\n",
    "    Generate a synthetic CMB-like signal over angular domain.\n",
    "\n",
    "    Parameters:\n",
    "        x (ndarray): Angular domain values (radians).\n",
    "\n",
    "    Returns:\n",
    "        ndarray: CMB-style amplitude values.\n",
    "    \"\"\"\n",
    "    return np.exp(-x**2 / 0.01) * np.cos(50 * x)\n",
    "\n",
    "def synthetic_bao(x):\n",
    "    \"\"\"\n",
    "    Generate a synthetic BAO-like signal over angular domain.\n",
    "\n",
    "    Parameters:\n",
    "        x (ndarray): Angular domain values (radians).\n",
    "\n",
    "    Returns:\n",
    "        ndarray: BAO-style amplitude values.\n",
    "    \"\"\"\n",
    "    return np.sin(2 * np.pi * x) / (x + 0.1)\n"
   ]
  },
  {
   "cell_type": "code",
   "execution_count": 7,
   "id": "2533267d-25e1-4912-b174-475bbcb38733",
   "metadata": {},
   "outputs": [],
   "source": [
    "x_vals = np.linspace(0, 1, 500)\n"
   ]
  },
  {
   "cell_type": "code",
   "execution_count": 8,
   "id": "9e426767-1ff3-4193-8fdc-ce8df8edf42d",
   "metadata": {},
   "outputs": [
    {
     "name": "stdout",
     "output_type": "stream",
     "text": [
      "CMB Peak Angle: 0.1162\n",
      "BAO Peak Angle: 0.1643\n",
      "Angular Spacing: 0.0481\n",
      "Angular Ratio: 1.4138\n"
     ]
    }
   ],
   "source": [
    "# Test modular extraction\n",
    "cmb_angles = extract_peak_angles(synthetic_cmb, x_vals)\n",
    "bao_angles = extract_peak_angles(synthetic_bao, x_vals)\n",
    "\n",
    "# Compare first peak pair\n",
    "spacing, ratio = compute_angular_relationships(cmb_angles[0], bao_angles[0])\n",
    "\n",
    "print(\"CMB Peak Angle:\", round(cmb_angles[0], 4))\n",
    "print(\"BAO Peak Angle:\", round(bao_angles[0], 4))\n",
    "print(\"Angular Spacing:\", round(spacing, 4))\n",
    "print(\"Angular Ratio:\", round(ratio, 4))\n"
   ]
  },
  {
   "cell_type": "code",
   "execution_count": null,
   "id": "d2c4b921-5a85-4816-9861-d96175305d68",
   "metadata": {},
   "outputs": [],
   "source": []
  }
 ],
 "metadata": {
  "kernelspec": {
   "display_name": "Python 3 (ipykernel)",
   "language": "python",
   "name": "python3"
  },
  "language_info": {
   "codemirror_mode": {
    "name": "ipython",
    "version": 3
   },
   "file_extension": ".py",
   "mimetype": "text/x-python",
   "name": "python",
   "nbconvert_exporter": "python",
   "pygments_lexer": "ipython3",
   "version": "3.13.5"
  }
 },
 "nbformat": 4,
 "nbformat_minor": 5
}
