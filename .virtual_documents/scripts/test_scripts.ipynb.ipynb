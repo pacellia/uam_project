import subprocess

import os

print("📂 Current Working Directory:", os.getcwd())


# Define script list (relative to repo root)
scripts_to_run = [
    "validate_uam_projection.py",
    "uam_theta_sweep.py",
    "uam_residuals.py",
    "uam_baseline_projection.py",
    "uam_fit_metrics.py"
]

# Run each script and capture output
for script in scripts_to_run:
    print(f"\n🔄 Running {script}...\n" + "-"*40)
    result = subprocess.run(["python", script], text=True, capture_output=True)
    print(result.stdout)
    if result.stderr:
        print("⚠️ Error:\n", result.stderr)







