{
 "cells": [
  {
   "cell_type": "code",
   "execution_count": 2,
   "id": "2d8b1b03-7a92-4717-9ce1-8d62e6cc2c95",
   "metadata": {},
   "outputs": [
    {
     "name": "stdout",
     "output_type": "stream",
     "text": [
      "✅ Changed working directory to: D:\\Documents\\uam_work\n",
      "\n",
      "🔄 Running scripts/validate_uam_projection.py...\n",
      "----------------------------------------\n",
      "\n",
      "⚠️ Error:\n",
      " Traceback (most recent call last):\n",
      "  File \u001b[35m\"D:\\Documents\\uam_work\\scripts\\validate_uam_projection.py\"\u001b[0m, line \u001b[35m3\u001b[0m, in \u001b[35m<module>\u001b[0m\n",
      "    from observational_loader import load_planck_binned_power\n",
      "\u001b[1;35mModuleNotFoundError\u001b[0m: \u001b[35mNo module named 'observational_loader'\u001b[0m\n",
      "\n",
      "\n",
      "🔄 Running scripts/uam_theta_sweep.py...\n",
      "----------------------------------------\n",
      "\n",
      "⚠️ Error:\n",
      " Traceback (most recent call last):\n",
      "  File \u001b[35m\"D:\\Documents\\uam_work\\scripts\\uam_theta_sweep.py\"\u001b[0m, line \u001b[35m3\u001b[0m, in \u001b[35m<module>\u001b[0m\n",
      "    from observational_loader import load_planck_binned_power\n",
      "\u001b[1;35mModuleNotFoundError\u001b[0m: \u001b[35mNo module named 'observational_loader'\u001b[0m\n",
      "\n",
      "\n",
      "🔄 Running scripts/uam_residuals.py...\n",
      "----------------------------------------\n",
      "\n",
      "⚠️ Error:\n",
      " Traceback (most recent call last):\n",
      "  File \u001b[35m\"D:\\Documents\\uam_work\\scripts\\uam_residuals.py\"\u001b[0m, line \u001b[35m3\u001b[0m, in \u001b[35m<module>\u001b[0m\n",
      "    from observational_loader import load_planck_binned_power\n",
      "\u001b[1;35mModuleNotFoundError\u001b[0m: \u001b[35mNo module named 'observational_loader'\u001b[0m\n",
      "\n",
      "\n",
      "🔄 Running scripts/uam_baseline_projection.py...\n",
      "----------------------------------------\n",
      "\n",
      "⚠️ Error:\n",
      " Traceback (most recent call last):\n",
      "  File \u001b[35m\"D:\\Documents\\uam_work\\scripts\\uam_baseline_projection.py\"\u001b[0m, line \u001b[35m3\u001b[0m, in \u001b[35m<module>\u001b[0m\n",
      "    from observational_loader import load_planck_binned_power\n",
      "\u001b[1;35mModuleNotFoundError\u001b[0m: \u001b[35mNo module named 'observational_loader'\u001b[0m\n",
      "\n",
      "\n",
      "🔄 Running scripts/uam_fit_metrics.py...\n",
      "----------------------------------------\n",
      "\n",
      "⚠️ Error:\n",
      " Traceback (most recent call last):\n",
      "  File \u001b[35m\"D:\\Documents\\uam_work\\scripts\\uam_fit_metrics.py\"\u001b[0m, line \u001b[35m28\u001b[0m, in \u001b[35m<module>\u001b[0m\n",
      "    from observational_loader import load_planck_binned_power\n",
      "\u001b[1;35mModuleNotFoundError\u001b[0m: \u001b[35mNo module named 'observational_loader'\u001b[0m\n",
      "\n"
     ]
    }
   ],
   "source": [
    "import subprocess\n",
    "\n",
    "# Define script list (relative to repo root)\n",
    "scripts_to_run = [\n",
    "    \"scripts/validate_uam_projection.py\",\n",
    "    \"scripts/uam_theta_sweep.py\",\n",
    "    \"scripts/uam_residuals.py\",\n",
    "    \"scripts/uam_baseline_projection.py\",\n",
    "    \"scripts/uam_fit_metrics.py\"\n",
    "]\n",
    "\n",
    "# Run each script and capture output\n",
    "for script in scripts_to_run:\n",
    "    print(f\"\\n🔄 Running {script}...\\n\" + \"-\"*40)\n",
    "    result = subprocess.run([\"python\", script], text=True, capture_output=True)\n",
    "    print(result.stdout)\n",
    "    if result.stderr:\n",
    "        print(\"⚠️ Error:\\n\", result.stderr)\n"
   ]
  },
  {
   "cell_type": "code",
   "execution_count": null,
   "id": "e34cb31b-9596-4325-9d2a-838421c4e9d7",
   "metadata": {},
   "outputs": [],
   "source": []
  }
 ],
 "metadata": {
  "kernelspec": {
   "display_name": "Python [conda env:base] *",
   "language": "python",
   "name": "conda-base-py"
  },
  "language_info": {
   "codemirror_mode": {
    "name": "ipython",
    "version": 3
   },
   "file_extension": ".py",
   "mimetype": "text/x-python",
   "name": "python",
   "nbconvert_exporter": "python",
   "pygments_lexer": "ipython3",
   "version": "3.13.5"
  }
 },
 "nbformat": 4,
 "nbformat_minor": 5
}
