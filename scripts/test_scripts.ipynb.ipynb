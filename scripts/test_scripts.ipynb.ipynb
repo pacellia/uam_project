{
 "cells": [
  {
   "cell_type": "code",
   "execution_count": 2,
   "id": "2d8b1b03-7a92-4717-9ce1-8d62e6cc2c95",
   "metadata": {},
   "outputs": [
    {
     "name": "stdout",
     "output_type": "stream",
     "text": [
      "📂 Current Working Directory: D:\\Documents\\uam_work\\scripts\n"
     ]
    },
    {
     "ename": "NameError",
     "evalue": "name '__file__' is not defined",
     "output_type": "error",
     "traceback": [
      "\u001b[1;31m---------------------------------------------------------------------------\u001b[0m",
      "\u001b[1;31mNameError\u001b[0m                                 Traceback (most recent call last)",
      "Cell \u001b[1;32mIn[2], line 12\u001b[0m\n\u001b[0;32m      9\u001b[0m \u001b[38;5;28;01mimport\u001b[39;00m\u001b[38;5;250m \u001b[39m\u001b[38;5;21;01mos\u001b[39;00m\n\u001b[0;32m     11\u001b[0m \u001b[38;5;66;03m# Ensure the root directory is in sys.path\u001b[39;00m\n\u001b[1;32m---> 12\u001b[0m root_dir \u001b[38;5;241m=\u001b[39m os\u001b[38;5;241m.\u001b[39mpath\u001b[38;5;241m.\u001b[39mabspath(os\u001b[38;5;241m.\u001b[39mpath\u001b[38;5;241m.\u001b[39mdirname(\u001b[38;5;18m__file__\u001b[39m) \u001b[38;5;129;01mor\u001b[39;00m \u001b[38;5;124m\"\u001b[39m\u001b[38;5;124m.\u001b[39m\u001b[38;5;124m\"\u001b[39m)\n\u001b[0;32m     13\u001b[0m \u001b[38;5;28;01mif\u001b[39;00m root_dir \u001b[38;5;129;01mnot\u001b[39;00m \u001b[38;5;129;01min\u001b[39;00m sys\u001b[38;5;241m.\u001b[39mpath:\n\u001b[0;32m     14\u001b[0m     sys\u001b[38;5;241m.\u001b[39mpath\u001b[38;5;241m.\u001b[39minsert(\u001b[38;5;241m0\u001b[39m, root_dir)\n",
      "\u001b[1;31mNameError\u001b[0m: name '__file__' is not defined"
     ]
    }
   ],
   "source": [
    "import subprocess\n",
    "\n",
    "import os\n",
    "\n",
    "print(\"📂 Current Working Directory:\", os.getcwd())\n",
    "\n",
    "\n",
    "import sys\n",
    "import os\n",
    "\n",
    "# Ensure the root directory is in sys.path\n",
    "root_dir = os.path.abspath(os.path.dirname(__file__) or \".\")\n",
    "if root_dir not in sys.path:\n",
    "    sys.path.insert(0, root_dir)\n",
    "\n",
    "\n",
    "# Define script list (relative to repo root)\n",
    "scripts_to_run = [\n",
    "    \"validate_uam_projection.py\",\n",
    "    \"uam_theta_sweep.py\",\n",
    "    \"uam_residuals.py\",\n",
    "    \"uam_baseline_projection.py\",\n",
    "    \"uam_fit_metrics.py\"\n",
    "]\n",
    "\n",
    "# Run each script and capture output\n",
    "for script in scripts_to_run:\n",
    "    print(f\"\\n🔄 Running {script}...\\n\" + \"-\"*40)\n",
    "    result = subprocess.run([\"python\", script], text=True, capture_output=True)\n",
    "    print(result.stdout)\n",
    "    if result.stderr:\n",
    "        print(\"⚠️ Error:\\n\", result.stderr)\n"
   ]
  },
  {
   "cell_type": "code",
   "execution_count": null,
   "id": "e34cb31b-9596-4325-9d2a-838421c4e9d7",
   "metadata": {},
   "outputs": [],
   "source": []
  },
  {
   "cell_type": "code",
   "execution_count": null,
   "id": "c3cf34ed-30f9-4e58-93c0-a742b6abd3f5",
   "metadata": {},
   "outputs": [],
   "source": []
  }
 ],
 "metadata": {
  "kernelspec": {
   "display_name": "Python [conda env:base] *",
   "language": "python",
   "name": "conda-base-py"
  },
  "language_info": {
   "codemirror_mode": {
    "name": "ipython",
    "version": 3
   },
   "file_extension": ".py",
   "mimetype": "text/x-python",
   "name": "python",
   "nbconvert_exporter": "python",
   "pygments_lexer": "ipython3",
   "version": "3.13.5"
  }
 },
 "nbformat": 4,
 "nbformat_minor": 5
}
